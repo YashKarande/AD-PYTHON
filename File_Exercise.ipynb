{
  "nbformat": 4,
  "nbformat_minor": 0,
  "metadata": {
    "colab": {
      "provenance": [],
      "authorship_tag": "ABX9TyOXJoLzmmtrI0OOGPX2r0q9",
      "include_colab_link": true
    },
    "kernelspec": {
      "name": "python3",
      "display_name": "Python 3"
    },
    "language_info": {
      "name": "python"
    }
  },
  "cells": [
    {
      "cell_type": "markdown",
      "metadata": {
        "id": "view-in-github",
        "colab_type": "text"
      },
      "source": [
        "<a href=\"https://colab.research.google.com/github/YashKarande/AD-PYTHON/blob/main/File_Exercise.ipynb\" target=\"_parent\"><img src=\"https://colab.research.google.com/assets/colab-badge.svg\" alt=\"Open In Colab\"/></a>"
      ]
    },
    {
      "cell_type": "code",
      "execution_count": null,
      "metadata": {
        "id": "eghegvANSIlz"
      },
      "outputs": [],
      "source": [
        "#File exercise\n",
        "#If we list all the natural numbers below 10 that are multiples of 3 or 5, \n",
        "#we get 3, 5, 6 and 9. The sum of these multiples is 23.\n",
        "\n",
        "#Create a function to find the sum of all the multiples of numbers \n",
        "#listed in file aone per line \n",
        "#contained in another file l, also one per line\n",
        "#a,l are function parameters\n",
        "\n",
        "f=open('NaturalNosBelow10','w')\n",
        "for c in ['1','2','3','4','5','6','7','8','9','10','15','9']:\n",
        "  f.write(c+'\\n')\n",
        "\n",
        "f=open('Multiples','w')\n",
        "for c in ['3','5']:\n",
        "  f.write(c+'\\n')"
      ]
    },
    {
      "cell_type": "code",
      "source": [
        "total=0\n",
        "with open('NaturalNosBelow10') as f:\n",
        "  for line1 in f:\n",
        "    with open('Multiples') as g:\n",
        "      for line2 in g:  \n",
        " #       print(int(line1),int(line2))\n",
        "        if int(line1)%int(line2)==0:\n",
        "          total+=int(line1)\n",
        "          break\n",
        "print(total)\n",
        "\n"
      ],
      "metadata": {
        "id": "BuppyUquaYxD"
      },
      "execution_count": null,
      "outputs": []
    },
    {
      "cell_type": "code",
      "source": [
        "#Create a function to find the sum of all the multiples of numbers.\n",
        "#The function should take an inputFileName and an outputFileName.\n",
        "#Each line of the input file should be as follows:\n",
        "#factors:multiples \n",
        "#e.g.\n",
        "#3 5:1 2 3 4 5 6 7 8 9 15 9\n",
        "#Each line of the output file should be as follows:\n",
        "#result:factors:multiples \n",
        "#e.g.\n",
        "#47:3 5:1 2 3 4 5 6 7 8 9 15 9\n",
        "#listed in file with filename a, one per line \n",
        "#contained in another file with filename l, also one per line\n",
        "#a,l are function parameters\n",
        "\n",
        "def sumofmultiples(a,l):\n",
        "    x=[]\n",
        "    y=[]\n",
        "    sum = 0\n",
        "    with open('a') as f:\n",
        "        for i in f:\n",
        "            z = i.split(\":\")\n",
        "\n",
        "    x.append(z[0])\n",
        "    y.append(z[1])\n",
        "\n",
        "    a = x[0].split(\" \")\n",
        "    b = y[0].split(\" \")\n",
        "\n",
        "    for i in b:\n",
        "        for j in a:\n",
        "            if int(i) % int(j) == 0:\n",
        "                sum += int(i)\n",
        "                break\n",
        "    with open('l','w') as f:\n",
        "        f.write(str(sum) + ':' + z[0] +':'+ z[1])\n",
        "\n",
        "sumofmultiples(open('a'),open('l'))"
      ],
      "metadata": {
        "id": "MbKxkI_HfQqP"
      },
      "execution_count": null,
      "outputs": []
    }
  ]
}