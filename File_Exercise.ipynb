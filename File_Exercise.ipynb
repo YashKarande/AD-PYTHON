{
  "nbformat": 4,
  "nbformat_minor": 0,
  "metadata": {
    "colab": {
      "provenance": [],
      "authorship_tag": "ABX9TyN7j0QxqLbsfBbBrQuzJXaF",
      "include_colab_link": true
    },
    "kernelspec": {
      "name": "python3",
      "display_name": "Python 3"
    },
    "language_info": {
      "name": "python"
    }
  },
  "cells": [
    {
      "cell_type": "markdown",
      "metadata": {
        "id": "view-in-github",
        "colab_type": "text"
      },
      "source": [
        "<a href=\"https://colab.research.google.com/github/YashKarande/AD-PYTHON/blob/main/File_Exercise.ipynb\" target=\"_parent\"><img src=\"https://colab.research.google.com/assets/colab-badge.svg\" alt=\"Open In Colab\"/></a>"
      ]
    },
    {
      "cell_type": "code",
      "execution_count": null,
      "metadata": {
        "id": "eghegvANSIlz"
      },
      "outputs": [],
      "source": [
        "#File exercise\n",
        "#If we list all the natural numbers below 10 that are multiples of 3 or 5, \n",
        "#we get 3, 5, 6 and 9. The sum of these multiples is 23.\n",
        "\n",
        "#Create a function to find the sum of all the multiples of numbers \n",
        "#listed in file aone per line \n",
        "#contained in another file l, also one per line\n",
        "#a,l are function parameters\n",
        "\n",
        "f=open('NaturalNosBelow10','w')\n",
        "for c in ['1','2','3','4','5','6','7','8','9','10','15','9']:\n",
        "  f.write(c+'\\n')\n",
        "\n",
        "f=open('Multiples','w')\n",
        "for c in ['3','5']:\n",
        "  f.write(c+'\\n')"
      ]
    },
    {
      "cell_type": "code",
      "source": [
        "total=0\n",
        "with open('NaturalNosBelow10') as f:\n",
        "  for line1 in f:\n",
        "    with open('Multiples') as g:\n",
        "      for line2 in g:  \n",
        " #       print(int(line1),int(line2))\n",
        "        if int(line1)%int(line2)==0:\n",
        "          total+=int(line1)\n",
        "          break\n",
        "print(total)"
      ],
      "metadata": {
        "id": "BuppyUquaYxD"
      },
      "execution_count": null,
      "outputs": []
    },
    {
      "cell_type": "code",
      "source": [
        "#Create a function to find the sum of all the multiples of numbers.\n",
        "#The function should take an inputFileName and an outputFileName.\n",
        "#Each line of the input file should be as follows:\n",
        "#factors:multiples \n",
        "#e.g.\n",
        "#3 5:1 2 3 4 5 6 7 8 9 15 9\n",
        "#Each line of the output file should be as follows:\n",
        "#result:factors:multiples \n",
        "#e.g.\n",
        "#47:3 5:1 2 3 4 5 6 7 8 9 15 9\n",
        "#listed in file with filename a, one per line \n",
        "#contained in another file with filename l, also one per line\n",
        "#a,l are function parameters\n",
        "\n",
        "def sumofmultiples(a,l):\n",
        "    x=[]\n",
        "    y=[]\n",
        "    sum = 0\n",
        "    with open('a') as f:\n",
        "        for i in f:\n",
        "            z = i.split(\":\")\n",
        "\n",
        "    x.append(z[0])\n",
        "    y.append(z[1])\n",
        "#   print(x)\n",
        "    a = x[0].split(\" \")\n",
        "#   print(x[0])\n",
        "#   print(a)\n",
        "    b = y[0].split(\" \")\n",
        "\n",
        "    for i in b:\n",
        "        for j in a:\n",
        "            if int(i) % int(j) == 0:\n",
        "                sum += int(i)\n",
        "                break\n",
        "    with open('l','w') as f:\n",
        "        f.write(str(sum) + ':' + z[0] +':'+ z[1])\n",
        "\n",
        "sumofmultiples(open('a'),open('l'))"
      ],
      "metadata": {
        "id": "MbKxkI_HfQqP",
        "outputId": "c29da083-97ef-421c-a8ee-f7b0bfb8f5b5",
        "colab": {
          "base_uri": "https://localhost:8080/"
        }
      },
      "execution_count": null,
      "outputs": [
        {
          "output_type": "stream",
          "name": "stdout",
          "text": [
            "['3 5']\n",
            "3 5\n",
            "['3', '5']\n"
          ]
        }
      ]
    },
    {
      "cell_type": "code",
      "source": [
        "with open('malformatted','w') as f:\n",
        "  f.write(\n",
        "      '''3 5:1 2 3 4 5 6 7 8 9 15 9\n",
        "3 5 2 1 2 3 4 5 6 7 8 9 15 9 15 23 24\n",
        "3:5:1:2 3 4 5 6 7 8 9 15 9\n",
        "Hello World\n",
        "3 5 2:1 2 3 4 5 6 7 8 9 15 9 15 23 24'''\n",
        "  )"
      ],
      "metadata": {
        "id": "Z2eBlRi3CzsW"
      },
      "execution_count": null,
      "outputs": []
    },
    {
      "cell_type": "code",
      "source": [
        "with open('input','w') as f:\n",
        "  f.write(\n",
        "      '''3 5:1 2 3 4 5 6 7 8 9 15 9\n",
        "3 5 2:1 2 3 4 5 6 7 8 9 15 9 15 23 24'''\n",
        "  )"
      ],
      "metadata": {
        "id": "q_F8SuguC6Zm"
      },
      "execution_count": null,
      "outputs": []
    },
    {
      "cell_type": "code",
      "source": [
        "with open('badvalues','w') as f:\n",
        "  f.write(\n",
        "      '''3 5:1 2 3 4 5 6 7 8 9 15 9\n",
        "3 5 2:1 2 3 4 5 6 7 8 9 1O 15 9 15 23 24\n",
        "3 5 Hello World:12 3 4 5 6 7 8 9 15 9.9\n",
        "Hello World\n",
        "3 5 2:1 2 3 4 5 6 7 8 9 15 9 15 23 24'''\n",
        "  )"
      ],
      "metadata": {
        "id": "a1uqZ8IpC89V"
      },
      "execution_count": null,
      "outputs": []
    },
    {
      "cell_type": "code",
      "source": [
        "#next: amend to handle malformatted values"
      ],
      "metadata": {
        "id": "kpUg6hMiK9SM"
      },
      "execution_count": null,
      "outputs": []
    },
    {
      "cell_type": "code",
      "source": [
        "def sint(x):\n",
        "  try:\n",
        "    return int(x)\n",
        "  except:\n",
        "    return 0\n",
        "\n",
        "a='7 2 45 6 9 1O 11 12'\n",
        "try:\n",
        "  m=[sint(x) for x in a.split()]\n",
        "except:\n",
        "  print(\"Malformatted Line\")\n",
        "m"
      ],
      "metadata": {
        "colab": {
          "base_uri": "https://localhost:8080/"
        },
        "id": "RfvBVfmXD6yQ",
        "outputId": "f28c37a0-625a-4a07-d533-7ab5ca4a4439"
      },
      "execution_count": null,
      "outputs": [
        {
          "output_type": "execute_result",
          "data": {
            "text/plain": [
              "[7, 2, 45, 6, 9, None, 11, 12]"
            ]
          },
          "metadata": {},
          "execution_count": 9
        }
      ]
    },
    {
      "cell_type": "code",
      "source": [
        "def rect(x):\n",
        "    try:\n",
        "        return int(x)\n",
        "    except:\n",
        "        return 0\n",
        "\n",
        "with open('badvalues') as f:\n",
        "    line = f.read()\n",
        "    for a in line.split():\n",
        "      print(rect(a))"
      ],
      "metadata": {
        "colab": {
          "base_uri": "https://localhost:8080/",
          "height": 130
        },
        "id": "NvzzoCAlMBzW",
        "outputId": "62c0632a-3d98-4ba3-d26e-e74b180ae892"
      },
      "execution_count": null,
      "outputs": [
        {
          "output_type": "error",
          "ename": "SyntaxError",
          "evalue": "ignored",
          "traceback": [
            "\u001b[0;36m  File \u001b[0;32m\"<ipython-input-16-6923db36f0f3>\"\u001b[0;36m, line \u001b[0;32m10\u001b[0m\n\u001b[0;31m    #      print(rect(a))\u001b[0m\n\u001b[0m                         ^\u001b[0m\n\u001b[0;31mSyntaxError\u001b[0m\u001b[0;31m:\u001b[0m unexpected EOF while parsing\n"
          ]
        }
      ]
    },
    {
      "cell_type": "code",
      "source": [
        "#next: amend to handle malformatted values"
      ],
      "metadata": {
        "id": "B10btvn-Tdlp"
      },
      "execution_count": null,
      "outputs": []
    },
    {
      "cell_type": "code",
      "source": [
        "#For #2:\n",
        "\n",
        "#input\n",
        "#3 5:1 2 3 4 5 6 7 8 9\n",
        "#3 5 2: 1 2 3 4 5 6 7 8 9 10 11 12 11 12\n",
        "#3: 5:1 2 3 4 5 6 7 8 9\n",
        "#3 5 2 1 2 3 4 5 6 7 8 9 10 11 12 11 12\n",
        "\n",
        "\n",
        "#output\n",
        "#23:3 5:1 2 3 4 5 6 7 8 9\n",
        "#71:3 5 2: 1 2 3 4 5 6 7 8 9 10 11 12 11 12\n",
        "#corrupt\n",
        "#corrupt\n",
        "\n",
        "# This is a sample Python script.\n",
        "# Press ⌃R to execute it or replace it with your code.\n",
        "# Press Double ⇧ to search everywhere for classes, files, tool windows, actions, and settings.\n",
        "\n",
        "with open('fake','w') as f:\n",
        "  f.write('''3 5:1 2 3 4 5 6 7 8 9\n",
        "3 5 2: 1 2 3 4 5 6 7 8 9 10 11 12 11 12\n",
        "3: 5:1 2 3 4 5 6 7 8 9\n",
        "3 5 2 1 2 3 4 5 6 7 8 9 10 11 12 11 12\n",
        "3 5:1 2 3 4 5 6 7 8 9 1O9 9 10\n",
        "Hello World 3 5 2: 1 2 3 4 5 6 7 Goodbye 8 9 10 11 12 11 12'''\n",
        "  )\n",
        "\n",
        "def rect(x):\n",
        "    try:\n",
        "        return int(x)\n",
        "    except:\n",
        "        return 0\n",
        "\n",
        "def s(a,l):\n",
        "  total=0\n",
        "  for i in l:\n",
        "    for j in a:\n",
        "      if i%j==0:\n",
        "        total+=i\n",
        "        break\n",
        "  return total\n",
        "\n",
        "def ff(inputFileName, outputFileName):\n",
        "  with open(inputFileName) as i, open(outputFileName,'w') as o:\n",
        "    for line in i:\n",
        "      try:\n",
        "        f, m = [[rect(line) for line in a.split()] for a in line.split(':')]\n",
        "        o.write(str(s(f,m))+':'+line)\n",
        "      except:\n",
        "        o.write('Corrupt\\n')\n",
        "        print(line)\n",
        "      # o.write(str(s(f,m))+':'+line)\n",
        "\n",
        "ff('fake','output')"
      ],
      "metadata": {
        "id": "QTrI3Cu7Ynia",
        "outputId": "6b4db253-94b9-41dd-a1a8-447173277e03",
        "colab": {
          "base_uri": "https://localhost:8080/"
        }
      },
      "execution_count": null,
      "outputs": [
        {
          "output_type": "stream",
          "name": "stdout",
          "text": [
            "3: 5:1 2 3 4 5 6 7 8 9\n",
            "\n",
            "3 5 2 1 2 3 4 5 6 7 8 9 10 11 12 11 12\n",
            "\n",
            "3 5:1 2 3 4 5 6 7 8 9 1O9 9 10\n",
            "\n",
            "Hello World 3 5 2: 1 2 3 4 5 6 7 Goodbye 8 9 10 11 12 11 12\n"
          ]
        }
      ]
    },
    {
      "cell_type": "code",
      "source": [
        "#For 3 \n",
        "#input\n",
        "#3 5:1 2 3 4 5 6 7 8 9\n",
        "#3 5 2: 1 2 3 4 5 6 7 8 9 10 11 12 11 12\n",
        "#3: 5:1 2 3 4 5 6 7 8 9\n",
        "#3 5 2 1 2 3 4 5 6 7 8 9 10 11 12 11 12\n",
        "#3 5:1 2 3 4 5 6 7 8 9 1O9 9 10\n",
        "#Hello World 3 5 2: 1 2 3 4 5 6 7 Goodbye 8 9 10 11 12 11 12\n",
        "\n",
        "\n",
        "#output\n",
        "#23:3 5:1 2 3 4 5 6 7 8 9\n",
        "#71:3 5 2: 1 2 3 4 5 6 7 8 9 10 11 12 11 12\n",
        "#corrupt\n",
        "#corrupt\n",
        "#42:3 5:1 2 3 4 5 6 7 8 9 1O9 9 10\n",
        "#71:Hello World 3 5 2: 1 2 3 4 5 6 7 Goodbye 8 9 10 11 12 11 12\n",
        "\n",
        "with open('fake','w') as f:\n",
        "  f.write('''3 5:1 2 3 4 5 6 7 8 9\n",
        "3 5 2: 1 2 3 4 5 6 7 8 9 10 11 12 11 12\n",
        "3: 5:1 2 3 4 5 6 7 8 9\n",
        "3 5 2 1 2 3 4 5 6 7 8 9 10 11 12 11 12\n",
        "3 5:1 2 3 4 5 6 7 8 9 1O9 9 10\n",
        "Hello World 3 5 2: 1 2 3 4 5 6 7 Goodbye 8 9 10 11 12 11 12'''\n",
        "  )\n",
        "\n",
        "def rect(x):\n",
        "    try:\n",
        "        return int(x)\n",
        "    except:\n",
        "        return x\n",
        "\n",
        "def s(a,l):\n",
        "  total=0\n",
        "  for i in l:\n",
        "    for j in a:\n",
        "      if i%j==0:\n",
        "        total+=i\n",
        "        break\n",
        "  return total\n",
        "\n",
        "def ff(inputFileName, outputFileName):\n",
        "  with open(inputFileName) as i, open(outputFileName,'w') as o:\n",
        "    for line in i:\n",
        "      try:\n",
        "        f, m = [[rect(line) for line in a.split()] for a in line.split(':')]\n",
        "        o.write(str(s(f,m))+':'+line)\n",
        "      except:\n",
        "        o.write(line)\n",
        "\n",
        "ff('fake','output')"
      ],
      "metadata": {
        "id": "jRWptwKLY0PN"
      },
      "execution_count": null,
      "outputs": []
    },
    {
      "cell_type": "code",
      "source": [
        "#Given a price dictionary {item:price ...}\n",
        "#And a basket dictionary {item:quantity ...}\n",
        "#create a function to compute the cost of the basket!"
      ],
      "metadata": {
        "id": "yaMG_Q6uCb0y"
      },
      "execution_count": null,
      "outputs": []
    },
    {
      "cell_type": "code",
      "source": [
        "#Create a function taking a price dictionary and basket dictionary.\n",
        "#{itemName:price,...} \n",
        "#in prices\n",
        "#{itemName:quantity,...}\n",
        "#in basket\n",
        "#The function should return the sum of all products of quantity by price\n",
        "#for each item in the basket\n",
        "#should return 4.27\n",
        "\n",
        "prices = {\n",
        "  \"milk\" : 1.29,\n",
        "  \"bread\" : 1.49,\n",
        "  \"cheese\" : 2.99\n",
        "}\n",
        "\n",
        "basket = {\n",
        "  \"bread\": 2,\n",
        "  \"milk\": 1,\n",
        "  \"cheese\": 2\n",
        "}\n",
        "\n",
        "def cal(p,b):\n",
        "  total=0\n",
        "\n",
        "  x = b.keys()\n",
        "  m = p.keys()\n",
        "\n",
        "  for i in m:\n",
        "    for j in x:\n",
        "      if i in j:\n",
        "        total += p.get(j) * b.get(j)\n",
        "  print(total)\n",
        "\n",
        "cal(prices,basket)"
      ],
      "metadata": {
        "id": "V_e7aqbTNlAJ",
        "outputId": "2d911c30-5067-430b-bb94-48525338c871",
        "colab": {
          "base_uri": "https://localhost:8080/"
        }
      },
      "execution_count": 1,
      "outputs": [
        {
          "output_type": "stream",
          "name": "stdout",
          "text": [
            "10.25\n"
          ]
        }
      ]
    },
    {
      "cell_type": "code",
      "source": [
        "#Create a function taking an priceFilename and basketFilename.\n",
        "#the input format is \n",
        "#itemName price \n",
        "#in prices\n",
        "#itemName quantity\n",
        "#in basket\n",
        "#The function should return the sum of all products of quantity by price\n",
        "#for each item in the basket\n",
        "\n",
        "#basket\n",
        "\n",
        "#bread 2\n",
        "#milk 1\n",
        "\n",
        "#prices\n",
        "\n",
        "#bread 1.49\n",
        "#cheese 2.99\n",
        "#milk 1.29\n",
        "\n",
        "#should return 4.27\n",
        "\n",
        "\n",
        "\n",
        "\n",
        "\n"
      ],
      "metadata": {
        "id": "KhSVEvsbNoiF"
      },
      "execution_count": null,
      "outputs": []
    }
  ]
}