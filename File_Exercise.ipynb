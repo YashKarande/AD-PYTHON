{
  "nbformat": 4,
  "nbformat_minor": 0,
  "metadata": {
    "colab": {
      "provenance": [],
      "authorship_tag": "ABX9TyPPoGlZHwOyatJWV5b7e8iL",
      "include_colab_link": true
    },
    "kernelspec": {
      "name": "python3",
      "display_name": "Python 3"
    },
    "language_info": {
      "name": "python"
    }
  },
  "cells": [
    {
      "cell_type": "markdown",
      "metadata": {
        "id": "view-in-github",
        "colab_type": "text"
      },
      "source": [
        "<a href=\"https://colab.research.google.com/github/YashKarande/AD-PYTHON/blob/main/File_Exercise.ipynb\" target=\"_parent\"><img src=\"https://colab.research.google.com/assets/colab-badge.svg\" alt=\"Open In Colab\"/></a>"
      ]
    },
    {
      "cell_type": "code",
      "execution_count": 68,
      "metadata": {
        "id": "eghegvANSIlz"
      },
      "outputs": [],
      "source": [
        "#File exercise\n",
        "#If we list all the natural numbers below 10 that are multiples of 3 or 5, \n",
        "#we get 3, 5, 6 and 9. The sum of these multiples is 23.\n",
        "\n",
        "#Create a function to find the sum of all the multiples of numbers \n",
        "#listed in file aone per line \n",
        "#contained in another file l, also one per line\n",
        "#a,l are function parameters\n",
        "\n",
        "f=open('NaturalNosBelow10','w')\n",
        "for c in ['1','2','3','4','5','6','7','8','9','10','15','9']:\n",
        "  f.write(c+'\\n')\n",
        "\n",
        "f=open('Multiples','w')\n",
        "for c in ['3','5']:\n",
        "  f.write(c+'\\n')"
      ]
    },
    {
      "cell_type": "code",
      "source": [
        "f=open('NaturalNosBelow10')\n",
        "f.seek(0)\n",
        "print(f.read())"
      ],
      "metadata": {
        "id": "0BpH7dKGXRoz"
      },
      "execution_count": null,
      "outputs": []
    },
    {
      "cell_type": "code",
      "source": [
        "g=open('Multiples')\n",
        "g.seek(0)\n",
        "print(g.read())"
      ],
      "metadata": {
        "id": "ObEeElUEaNKm"
      },
      "execution_count": null,
      "outputs": []
    },
    {
      "cell_type": "code",
      "source": [
        "total=0\n",
        "with open('NaturalNosBelow10') as f:\n",
        "  for line1 in f:\n",
        "    with open('Multiples') as g:\n",
        "      for line2 in g:  \n",
        " #       print(int(line1),int(line2))\n",
        "        if int(line1)%int(line2)==0:\n",
        "          total+=int(line1)\n",
        "          break\n",
        "\n"
      ],
      "metadata": {
        "id": "BuppyUquaYxD"
      },
      "execution_count": null,
      "outputs": []
    },
    {
      "cell_type": "code",
      "source": [
        "print(total)\n"
      ],
      "metadata": {
        "colab": {
          "base_uri": "https://localhost:8080/"
        },
        "id": "8fkMj6TQb5A8",
        "outputId": "6d23e45f-e046-4ab4-a889-188526ea561f"
      },
      "execution_count": 72,
      "outputs": [
        {
          "output_type": "stream",
          "name": "stdout",
          "text": [
            "57\n"
          ]
        }
      ]
    },
    {
      "cell_type": "code",
      "source": [],
      "metadata": {
        "id": "MbKxkI_HfQqP"
      },
      "execution_count": null,
      "outputs": []
    }
  ]
}