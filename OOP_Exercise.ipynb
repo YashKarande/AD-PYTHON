{
  "nbformat": 4,
  "nbformat_minor": 0,
  "metadata": {
    "colab": {
      "provenance": [],
      "authorship_tag": "ABX9TyMMY8omOJByC4ZS8XnBHm+D",
      "include_colab_link": true
    },
    "kernelspec": {
      "name": "python3",
      "display_name": "Python 3"
    },
    "language_info": {
      "name": "python"
    }
  },
  "cells": [
    {
      "cell_type": "markdown",
      "metadata": {
        "id": "view-in-github",
        "colab_type": "text"
      },
      "source": [
        "<a href=\"https://colab.research.google.com/github/YashKarande/AD-PYTHON/blob/main/OOP_Exercise.ipynb\" target=\"_parent\"><img src=\"https://colab.research.google.com/assets/colab-badge.svg\" alt=\"Open In Colab\"/></a>"
      ]
    },
    {
      "cell_type": "code",
      "execution_count": 5,
      "metadata": {
        "colab": {
          "base_uri": "https://localhost:8080/"
        },
        "id": "xTrIRM-1VzEq",
        "outputId": "d36955c2-7d0f-40b0-926d-375967b0430e"
      },
      "outputs": [
        {
          "output_type": "stream",
          "name": "stdout",
          "text": [
            "milk 2\n"
          ]
        }
      ],
      "source": [
        "#create a class basket with methods\n",
        "#addItem(self,item,qty)\n",
        "#getQty(self,item)\n",
        "class basket:\n",
        "  def __init__(self,item,qty):\n",
        "    self.item = item\n",
        "    self.qty = qty\n",
        "\n",
        "  def addItem(self,item,qty):\n",
        "    print(self.item,self.qty)\n",
        "\n",
        "  def getQty(self,item):\n",
        "    pass\n",
        "\n",
        "a = basket('milk','2')\n",
        "print(a.item,a.qty)"
      ]
    }
  ]
}