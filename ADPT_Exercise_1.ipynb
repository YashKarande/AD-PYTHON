{
  "nbformat": 4,
  "nbformat_minor": 0,
  "metadata": {
    "colab": {
      "provenance": [],
      "authorship_tag": "ABX9TyOq9rkoYdmgaWwcXsB7PwbV",
      "include_colab_link": true
    },
    "kernelspec": {
      "name": "python3",
      "display_name": "Python 3"
    },
    "language_info": {
      "name": "python"
    }
  },
  "cells": [
    {
      "cell_type": "markdown",
      "metadata": {
        "id": "view-in-github",
        "colab_type": "text"
      },
      "source": [
        "<a href=\"https://colab.research.google.com/github/YashKarande/adpt/blob/main/ADPT_Exercise_1.ipynb\" target=\"_parent\"><img src=\"https://colab.research.google.com/assets/colab-badge.svg\" alt=\"Open In Colab\"/></a>"
      ]
    },
    {
      "cell_type": "code",
      "source": [
        "#Write a Python program that asks for the baggage weight  and lets the user know \n",
        "#while its weight exceeds the baggage limit of 15 kg. \n",
        "#asks to remove something and say how much removed\n",
        "#recomputes the new weight\n",
        "\n",
        "def cal_weight(check_weight):\n",
        "  if check_weight > 15 and check_weight > 0:\n",
        "      your_weight = check_weight-15\n",
        "      print(\"Your baggage weight has exceeded!, Please remove\",your_weight,\"more weight\")\n",
        "      recheck(check_weight);\n",
        "  else:\n",
        "     print(\"Your baggage is under weight, You can proceed\")\n",
        "\n",
        "def recheck(your_weight):\n",
        "  r_weight = float(input(\"Enter how much weight to remove: \"))\n",
        "  new_weight = your_weight - r_weight\n",
        "  print(\"Your new weight is: \",new_weight)\n",
        "  cal_weight(new_weight)\n",
        "\n",
        "def check():\n",
        "    weight = input(\"Enter Your Baggage Weight: \")\n",
        "    try:\n",
        "      check_weight = float(weight)\n",
        "      print(\"Your Entered Weight is: \",check_weight)   \n",
        "    except ValueError:\n",
        "      print(\"Try again, Enter a Valid Number\")\n",
        "      check();\n",
        "    cal_weight(check_weight);\n",
        "\n",
        "check();\n"
      ],
      "metadata": {
        "id": "z3cARnXoYqJq",
        "outputId": "db45ce8a-e970-4fe8-fa52-c8fdb909d15e",
        "colab": {
          "base_uri": "https://localhost:8080/"
        }
      },
      "execution_count": null,
      "outputs": [
        {
          "output_type": "stream",
          "name": "stdout",
          "text": [
            "Enter Your Baggage Weight: 18\n",
            "Your Entered Weight is:  18.0\n",
            "Your baggage weight has exceeded!, Please remove 3.0 more weight\n",
            "Enter how much weight to remove: 2\n",
            "Your new weight is:  16.0\n",
            "Your baggage weight has exceeded!, Please remove 1.0 more weight\n",
            "Enter how much weight to remove: 3\n",
            "Your new weight is:  13.0\n",
            "Your baggage is under weight, You can proceed\n"
          ]
        }
      ]
    },
    {
      "cell_type": "code",
      "source": [
        "#add the numbers to 93 using a loop\n",
        "c = 1\n",
        "for x in range(94):\n",
        "  c = c + x\n",
        "  print(c)\n",
        "  "
      ],
      "metadata": {
        "id": "2pNBrwmfI9q5"
      },
      "execution_count": null,
      "outputs": []
    },
    {
      "cell_type": "code",
      "source": [
        "#If we list all the natural numbers below 10 that are multiples of 3 or 5, \n",
        "#we get 3, 5, 6 and 9. The sum of these multiples is 23.\n",
        "#Find the sum of all the multiples of 3 or 5 below 1000.\n",
        "a = 0\n",
        "for x in range(1,10):\n",
        "  if(x % 3 == 0 or x % 5 == 0):\n",
        "    a = a + x\n",
        "    print(x)\n",
        "print(a)"
      ],
      "metadata": {
        "id": "bBynXZYFJFPe",
        "colab": {
          "base_uri": "https://localhost:8080/"
        },
        "outputId": "0c9928d4-1327-42da-8f7f-198ee8c72e7b"
      },
      "execution_count": null,
      "outputs": [
        {
          "output_type": "stream",
          "name": "stdout",
          "text": [
            "3\n",
            "5\n",
            "6\n",
            "9\n",
            "23\n"
          ]
        }
      ]
    },
    {
      "cell_type": "code",
      "source": [
        "#Write a function to find the sum of all the multiples of x or y below n.\n",
        "#where (x,y,n) are parameters to the function\n",
        "n = int(input(\"Enter range: \"))\n",
        "x = int(input(\"Enter value of x for first multiple: \"))\n",
        "y = int(input(\"Enter value of y for secound multiple: \"))\n",
        "\n",
        "def work(x,y,n):\n",
        "  a = 0\n",
        "  for i in range(1,n):\n",
        "    if(i % x == 0 or i % y == 0):\n",
        "      a = a + i\n",
        "      print(i)\n",
        "  print(a)\n",
        "\n",
        "work(x,y,n)"
      ],
      "metadata": {
        "id": "cxphIHjKNO2t",
        "colab": {
          "base_uri": "https://localhost:8080/"
        },
        "outputId": "d780e0d5-fc65-4b54-a1ec-f2e5536f6678"
      },
      "execution_count": null,
      "outputs": [
        {
          "output_type": "stream",
          "name": "stdout",
          "text": [
            "Enter range: 10\n",
            "Enter value of x for first multiple: 2\n",
            "Enter value of y for secound multiple: 3\n",
            "2\n",
            "3\n",
            "4\n",
            "6\n",
            "8\n",
            "9\n",
            "32\n"
          ]
        }
      ]
    },
    {
      "cell_type": "code",
      "source": [
        "#In class exercise: Create a function that returns the sum of the first n numbers, where n is given as function parameter. \n",
        "\n",
        "def sum(n):\n",
        "  x=0\n",
        "  for i in range(n):\n",
        "    x = x + i\n",
        "  return x\n",
        "\n",
        "n = int(input('Enter value of n: '))\n",
        "sum(n)"
      ],
      "metadata": {
        "colab": {
          "base_uri": "https://localhost:8080/"
        },
        "outputId": "d73cf49c-7c06-4f48-907d-d1f946965c4a",
        "id": "dkiqLztFO4xr"
      },
      "execution_count": null,
      "outputs": [
        {
          "name": "stdout",
          "output_type": "stream",
          "text": [
            "Enter value of n: 6\n"
          ]
        },
        {
          "output_type": "execute_result",
          "data": {
            "text/plain": [
              "15"
            ]
          },
          "metadata": {},
          "execution_count": 6
        }
      ]
    },
    {
      "cell_type": "code",
      "source": [
        "#If we list all the natural numbers below 10 that are multiples of 3 or 5, \n",
        "#we get 3, 5, 6 and 9. The sum of these multiples is 23.\n",
        "\n",
        "def work():\n",
        "  a = 0\n",
        "  for x in range(1,10):\n",
        "    if(x % 3 == 0 or x % 5 == 0):\n",
        "      a = a + x\n",
        "      print(x)\n",
        "  print(a)\n",
        "\n",
        "work()\n"
      ],
      "metadata": {
        "colab": {
          "base_uri": "https://localhost:8080/"
        },
        "id": "DfR6jUSEV1bw",
        "outputId": "db835271-3004-4472-d449-c9d0b947176a"
      },
      "execution_count": null,
      "outputs": [
        {
          "output_type": "stream",
          "name": "stdout",
          "text": [
            "3\n",
            "5\n",
            "6\n",
            "9\n"
          ]
        },
        {
          "output_type": "execute_result",
          "data": {
            "text/plain": [
              "23"
            ]
          },
          "metadata": {},
          "execution_count": 12
        }
      ]
    },
    {
      "cell_type": "code",
      "source": [
        "#List 1\n",
        "#Create a function to find the sum of all the multiples of a or b in list l\n",
        "#a,b,l are function parameters\n",
        "\n",
        "l = [1,2,3,4,5,6,7,8,9]\n",
        "a = int(input(\"Enter value of a for first multiple: \"))\n",
        "b = int(input(\"Enter value of b for secound multiple: \"))\n",
        "\n",
        "def work(a,b,n):\n",
        "  c = 0\n",
        "  for i in range(1,n):\n",
        "    if(i % a == 0 or i % b == 0):\n",
        "      c += i\n",
        "      print(i)\n",
        "  return c\n",
        "\n",
        "work(a,b,n)"
      ],
      "metadata": {
        "colab": {
          "base_uri": "https://localhost:8080/"
        },
        "id": "14ZJTqjoXhtb",
        "outputId": "b39d87a7-e4d0-4a18-aa64-14e473cc0729"
      },
      "execution_count": null,
      "outputs": [
        {
          "output_type": "stream",
          "name": "stdout",
          "text": [
            "Enter value of a for first multiple: 2\n",
            "Enter value of b for secound multiple: 3\n",
            "2\n",
            "3\n",
            "4\n",
            "6\n",
            "8\n",
            "9\n"
          ]
        },
        {
          "output_type": "execute_result",
          "data": {
            "text/plain": [
              "32"
            ]
          },
          "metadata": {},
          "execution_count": 18
        }
      ]
    },
    {
      "cell_type": "code",
      "source": [
        "#List 2\n",
        "#If we list all the natural numbers below 10 that are multiples of 3 or 5, \n",
        "#we get 3, 5, 6 and 9. The sum of these multiples is 23.\n",
        "#Create a function to find the sum of all the multiples of numbers in list a\n",
        "#contained in list l\n",
        "#a,l are function parameters and a is of length 2\n",
        "\n",
        "a = [3,5]\n",
        "l = [1,2,3,4,5,6,7,8,9]\n",
        "\n",
        "def cal():\n",
        "  c = 0\n",
        "  for i in l:       \n",
        "    for j in a:\n",
        "      if i % j == 0:\n",
        "        c += i\n",
        "        break\n",
        "  return c\n",
        "\n",
        "cal()"
      ],
      "metadata": {
        "colab": {
          "base_uri": "https://localhost:8080/"
        },
        "id": "Tz9BxtFtdjal",
        "outputId": "70f6352c-02f7-4254-dac4-234ebcfec792"
      },
      "execution_count": null,
      "outputs": [
        {
          "output_type": "execute_result",
          "data": {
            "text/plain": [
              "23"
            ]
          },
          "metadata": {},
          "execution_count": 2
        }
      ]
    },
    {
      "cell_type": "code",
      "source": [
        "#List 3\n",
        "#Create a function to find the sum of all the multiples of numbers in list a\n",
        "#contained in list l\n",
        "#a,l are function parameters\n",
        "\n",
        "def list():\n",
        "  n = int(input('Enter the length of list 1: '))\n",
        "  m = int(input('Enter the length of list 2 which includes the multiples: '))\n",
        "  a = []\n",
        "  l = []\n",
        "\n",
        "  for i in range(n):\n",
        "    a.append(i)\n",
        "  for i in range(m):\n",
        "    x = int(input('Enter the multiples of list 2: '))\n",
        "    l.append(x)\n",
        "    \n",
        "  cal(a,l)\n",
        "\n",
        "def cal(a,l):\n",
        "  c = 0\n",
        "  for i in a:       \n",
        "    for j in l:\n",
        "      if i % j == 0:\n",
        "        c += i\n",
        "        break\n",
        "  print(c)\n",
        "\n",
        "list()"
      ],
      "metadata": {
        "id": "0tM8kNBGbXe4",
        "colab": {
          "base_uri": "https://localhost:8080/"
        },
        "outputId": "ea2f0571-39d5-4484-cb3c-4d05fcf712ed"
      },
      "execution_count": null,
      "outputs": [
        {
          "output_type": "stream",
          "name": "stdout",
          "text": [
            "Enter the length of list 1: 1000\n",
            "Enter the length of list 2 which includes the multiples: 4\n",
            "Enter the multiples of list 2: 2\n",
            "Enter the multiples of list 2: 3\n",
            "Enter the multiples of list 2: 5\n",
            "Enter the multiples of list 2: 7\n",
            "385788\n"
          ]
        }
      ]
    },
    {
      "cell_type": "code",
      "source": [
        "#s([2,3,5,7],range(1000))\n",
        "#385788\n",
        "\n",
        "def s(a,l):\n",
        "  total=0\n",
        "\n",
        "  for i in l:\n",
        "    for j in a:\n",
        "      if i%j==0:\n",
        "        total+=i\n",
        "        break\n",
        "  return total\n",
        "\n",
        "s([2,3,5,7],range(1000))"
      ],
      "metadata": {
        "id": "E1xYbkNagd-O",
        "colab": {
          "base_uri": "https://localhost:8080/"
        },
        "outputId": "efd5db13-9442-40f6-9541-3d7beb35c8b6"
      },
      "execution_count": null,
      "outputs": [
        {
          "output_type": "execute_result",
          "data": {
            "text/plain": [
              "385788"
            ]
          },
          "metadata": {},
          "execution_count": 106
        }
      ]
    },
    {
      "cell_type": "code",
      "source": [
        "#s([2,3,5],range(1000))\n",
        "#366832\n",
        "\n",
        "def s(a,l):\n",
        "  total=0\n",
        "\n",
        "  for i in l:\n",
        "    for j in a:\n",
        "      if i%j==0:\n",
        "        total+=i\n",
        "        break\n",
        "  return total\n",
        "\n",
        "s([2,3,5],range(1000))"
      ],
      "metadata": {
        "id": "BbL_IeTm1Ocf",
        "colab": {
          "base_uri": "https://localhost:8080/"
        },
        "outputId": "0d039ad5-cb64-4d80-abb9-60310b49c28a"
      },
      "execution_count": null,
      "outputs": [
        {
          "output_type": "execute_result",
          "data": {
            "text/plain": [
              "366832"
            ]
          },
          "metadata": {},
          "execution_count": 2
        }
      ]
    },
    {
      "cell_type": "code",
      "source": [
        "#s([2,3,5],[1,2,3,4,5,6,7,8,9,15,9])\n",
        "#61\n",
        "def s(a,l):\n",
        "  total=0\n",
        "\n",
        "  for i in l:\n",
        "    for j in a:\n",
        "      if i%j==0:\n",
        "        total+=i\n",
        "        break\n",
        "  return total\n",
        "\n",
        "s([2,3,5],[1,2,3,4,5,6,7,8,9,15,9])"
      ],
      "metadata": {
        "id": "_DcXw_rzARvs",
        "colab": {
          "base_uri": "https://localhost:8080/"
        },
        "outputId": "f862123f-60f9-4e7f-ff09-5e8dcc8218bd"
      },
      "execution_count": null,
      "outputs": [
        {
          "output_type": "execute_result",
          "data": {
            "text/plain": [
              "61"
            ]
          },
          "metadata": {},
          "execution_count": 5
        }
      ]
    }
  ]
}